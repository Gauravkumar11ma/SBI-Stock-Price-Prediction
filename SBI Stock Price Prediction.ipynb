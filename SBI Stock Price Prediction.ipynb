{
 "cells": [
  {
   "cell_type": "code",
   "execution_count": 1,
   "metadata": {},
   "outputs": [],
   "source": [
    "import numpy as np\n",
    "import pandas as pd\n",
    "from sklearn.preprocessing import MinMaxScaler\n",
    "import matplotlib.pyplot as plt\n",
    "import seaborn as sns\n",
    "import torch\n",
    "import torch.nn as nn"
   ]
  },
  {
   "cell_type": "code",
   "execution_count": 2,
   "metadata": {},
   "outputs": [
    {
     "data": {
      "text/html": [
       "<div>\n",
       "<style scoped>\n",
       "    .dataframe tbody tr th:only-of-type {\n",
       "        vertical-align: middle;\n",
       "    }\n",
       "\n",
       "    .dataframe tbody tr th {\n",
       "        vertical-align: top;\n",
       "    }\n",
       "\n",
       "    .dataframe thead th {\n",
       "        text-align: right;\n",
       "    }\n",
       "</style>\n",
       "<table border=\"1\" class=\"dataframe\">\n",
       "  <thead>\n",
       "    <tr style=\"text-align: right;\">\n",
       "      <th></th>\n",
       "      <th>Date</th>\n",
       "      <th>Open</th>\n",
       "      <th>High</th>\n",
       "      <th>Low</th>\n",
       "      <th>Close</th>\n",
       "      <th>Adj Close</th>\n",
       "      <th>Volume</th>\n",
       "    </tr>\n",
       "  </thead>\n",
       "  <tbody>\n",
       "    <tr>\n",
       "      <td>0</td>\n",
       "      <td>2021-01-11</td>\n",
       "      <td>288.000000</td>\n",
       "      <td>288.200012</td>\n",
       "      <td>279.600006</td>\n",
       "      <td>282.500000</td>\n",
       "      <td>279.915680</td>\n",
       "      <td>29703173</td>\n",
       "    </tr>\n",
       "    <tr>\n",
       "      <td>1</td>\n",
       "      <td>2021-01-12</td>\n",
       "      <td>280.000000</td>\n",
       "      <td>293.850006</td>\n",
       "      <td>277.899994</td>\n",
       "      <td>292.500000</td>\n",
       "      <td>289.824188</td>\n",
       "      <td>44307145</td>\n",
       "    </tr>\n",
       "    <tr>\n",
       "      <td>2</td>\n",
       "      <td>2021-01-13</td>\n",
       "      <td>296.000000</td>\n",
       "      <td>308.000000</td>\n",
       "      <td>294.500000</td>\n",
       "      <td>306.799988</td>\n",
       "      <td>303.993378</td>\n",
       "      <td>78042133</td>\n",
       "    </tr>\n",
       "    <tr>\n",
       "      <td>3</td>\n",
       "      <td>2021-01-14</td>\n",
       "      <td>306.700012</td>\n",
       "      <td>309.250000</td>\n",
       "      <td>303.799988</td>\n",
       "      <td>307.250000</td>\n",
       "      <td>304.439270</td>\n",
       "      <td>40123498</td>\n",
       "    </tr>\n",
       "    <tr>\n",
       "      <td>4</td>\n",
       "      <td>2021-01-15</td>\n",
       "      <td>306.799988</td>\n",
       "      <td>310.899994</td>\n",
       "      <td>301.299988</td>\n",
       "      <td>303.850006</td>\n",
       "      <td>301.070374</td>\n",
       "      <td>35307601</td>\n",
       "    </tr>\n",
       "    <tr>\n",
       "      <td>...</td>\n",
       "      <td>...</td>\n",
       "      <td>...</td>\n",
       "      <td>...</td>\n",
       "      <td>...</td>\n",
       "      <td>...</td>\n",
       "      <td>...</td>\n",
       "      <td>...</td>\n",
       "    </tr>\n",
       "    <tr>\n",
       "      <td>117</td>\n",
       "      <td>2021-07-02</td>\n",
       "      <td>420.299988</td>\n",
       "      <td>425.399994</td>\n",
       "      <td>419.000000</td>\n",
       "      <td>424.399994</td>\n",
       "      <td>424.399994</td>\n",
       "      <td>16423811</td>\n",
       "    </tr>\n",
       "    <tr>\n",
       "      <td>118</td>\n",
       "      <td>2021-07-05</td>\n",
       "      <td>426.500000</td>\n",
       "      <td>434.500000</td>\n",
       "      <td>424.250000</td>\n",
       "      <td>432.649994</td>\n",
       "      <td>432.649994</td>\n",
       "      <td>16483761</td>\n",
       "    </tr>\n",
       "    <tr>\n",
       "      <td>119</td>\n",
       "      <td>2021-07-06</td>\n",
       "      <td>431.700012</td>\n",
       "      <td>436.500000</td>\n",
       "      <td>428.200012</td>\n",
       "      <td>429.750000</td>\n",
       "      <td>429.750000</td>\n",
       "      <td>20195278</td>\n",
       "    </tr>\n",
       "    <tr>\n",
       "      <td>120</td>\n",
       "      <td>2021-07-07</td>\n",
       "      <td>429.350006</td>\n",
       "      <td>434.000000</td>\n",
       "      <td>427.549988</td>\n",
       "      <td>432.850006</td>\n",
       "      <td>432.850006</td>\n",
       "      <td>14473774</td>\n",
       "    </tr>\n",
       "    <tr>\n",
       "      <td>121</td>\n",
       "      <td>2021-07-08</td>\n",
       "      <td>432.799988</td>\n",
       "      <td>435.399994</td>\n",
       "      <td>422.100006</td>\n",
       "      <td>424.450012</td>\n",
       "      <td>424.450012</td>\n",
       "      <td>21433043</td>\n",
       "    </tr>\n",
       "  </tbody>\n",
       "</table>\n",
       "<p>122 rows × 7 columns</p>\n",
       "</div>"
      ],
      "text/plain": [
       "           Date        Open        High         Low       Close   Adj Close  \\\n",
       "0    2021-01-11  288.000000  288.200012  279.600006  282.500000  279.915680   \n",
       "1    2021-01-12  280.000000  293.850006  277.899994  292.500000  289.824188   \n",
       "2    2021-01-13  296.000000  308.000000  294.500000  306.799988  303.993378   \n",
       "3    2021-01-14  306.700012  309.250000  303.799988  307.250000  304.439270   \n",
       "4    2021-01-15  306.799988  310.899994  301.299988  303.850006  301.070374   \n",
       "..          ...         ...         ...         ...         ...         ...   \n",
       "117  2021-07-02  420.299988  425.399994  419.000000  424.399994  424.399994   \n",
       "118  2021-07-05  426.500000  434.500000  424.250000  432.649994  432.649994   \n",
       "119  2021-07-06  431.700012  436.500000  428.200012  429.750000  429.750000   \n",
       "120  2021-07-07  429.350006  434.000000  427.549988  432.850006  432.850006   \n",
       "121  2021-07-08  432.799988  435.399994  422.100006  424.450012  424.450012   \n",
       "\n",
       "       Volume  \n",
       "0    29703173  \n",
       "1    44307145  \n",
       "2    78042133  \n",
       "3    40123498  \n",
       "4    35307601  \n",
       "..        ...  \n",
       "117  16423811  \n",
       "118  16483761  \n",
       "119  20195278  \n",
       "120  14473774  \n",
       "121  21433043  \n",
       "\n",
       "[122 rows x 7 columns]"
      ]
     },
     "execution_count": 2,
     "metadata": {},
     "output_type": "execute_result"
    }
   ],
   "source": [
    "df = pd.read_csv(\"SBIN.NS.csv\")\n",
    "df"
   ]
  },
  {
   "cell_type": "code",
   "execution_count": 3,
   "metadata": {},
   "outputs": [
    {
     "data": {
      "text/html": [
       "<div>\n",
       "<style scoped>\n",
       "    .dataframe tbody tr th:only-of-type {\n",
       "        vertical-align: middle;\n",
       "    }\n",
       "\n",
       "    .dataframe tbody tr th {\n",
       "        vertical-align: top;\n",
       "    }\n",
       "\n",
       "    .dataframe thead th {\n",
       "        text-align: right;\n",
       "    }\n",
       "</style>\n",
       "<table border=\"1\" class=\"dataframe\">\n",
       "  <thead>\n",
       "    <tr style=\"text-align: right;\">\n",
       "      <th></th>\n",
       "      <th>Date</th>\n",
       "      <th>Open</th>\n",
       "      <th>High</th>\n",
       "      <th>Low</th>\n",
       "      <th>Close</th>\n",
       "      <th>Adj Close</th>\n",
       "      <th>Volume</th>\n",
       "    </tr>\n",
       "  </thead>\n",
       "  <tbody>\n",
       "    <tr>\n",
       "      <td>0</td>\n",
       "      <td>2021-01-11</td>\n",
       "      <td>288.000000</td>\n",
       "      <td>288.200012</td>\n",
       "      <td>279.600006</td>\n",
       "      <td>282.500000</td>\n",
       "      <td>279.915680</td>\n",
       "      <td>29703173</td>\n",
       "    </tr>\n",
       "    <tr>\n",
       "      <td>1</td>\n",
       "      <td>2021-01-12</td>\n",
       "      <td>280.000000</td>\n",
       "      <td>293.850006</td>\n",
       "      <td>277.899994</td>\n",
       "      <td>292.500000</td>\n",
       "      <td>289.824188</td>\n",
       "      <td>44307145</td>\n",
       "    </tr>\n",
       "    <tr>\n",
       "      <td>2</td>\n",
       "      <td>2021-01-13</td>\n",
       "      <td>296.000000</td>\n",
       "      <td>308.000000</td>\n",
       "      <td>294.500000</td>\n",
       "      <td>306.799988</td>\n",
       "      <td>303.993378</td>\n",
       "      <td>78042133</td>\n",
       "    </tr>\n",
       "    <tr>\n",
       "      <td>3</td>\n",
       "      <td>2021-01-14</td>\n",
       "      <td>306.700012</td>\n",
       "      <td>309.250000</td>\n",
       "      <td>303.799988</td>\n",
       "      <td>307.250000</td>\n",
       "      <td>304.439270</td>\n",
       "      <td>40123498</td>\n",
       "    </tr>\n",
       "    <tr>\n",
       "      <td>4</td>\n",
       "      <td>2021-01-15</td>\n",
       "      <td>306.799988</td>\n",
       "      <td>310.899994</td>\n",
       "      <td>301.299988</td>\n",
       "      <td>303.850006</td>\n",
       "      <td>301.070374</td>\n",
       "      <td>35307601</td>\n",
       "    </tr>\n",
       "    <tr>\n",
       "      <td>5</td>\n",
       "      <td>2021-01-18</td>\n",
       "      <td>303.500000</td>\n",
       "      <td>308.649994</td>\n",
       "      <td>292.200012</td>\n",
       "      <td>294.450012</td>\n",
       "      <td>291.756378</td>\n",
       "      <td>54969750</td>\n",
       "    </tr>\n",
       "    <tr>\n",
       "      <td>6</td>\n",
       "      <td>2021-01-19</td>\n",
       "      <td>297.649994</td>\n",
       "      <td>302.500000</td>\n",
       "      <td>296.399994</td>\n",
       "      <td>298.600006</td>\n",
       "      <td>295.868408</td>\n",
       "      <td>35803901</td>\n",
       "    </tr>\n",
       "    <tr>\n",
       "      <td>7</td>\n",
       "      <td>2021-01-20</td>\n",
       "      <td>298.799988</td>\n",
       "      <td>304.700012</td>\n",
       "      <td>296.850006</td>\n",
       "      <td>302.549988</td>\n",
       "      <td>299.782257</td>\n",
       "      <td>33759304</td>\n",
       "    </tr>\n",
       "    <tr>\n",
       "      <td>8</td>\n",
       "      <td>2021-01-21</td>\n",
       "      <td>304.000000</td>\n",
       "      <td>305.149994</td>\n",
       "      <td>291.500000</td>\n",
       "      <td>294.850006</td>\n",
       "      <td>292.152710</td>\n",
       "      <td>29995203</td>\n",
       "    </tr>\n",
       "    <tr>\n",
       "      <td>9</td>\n",
       "      <td>2021-01-22</td>\n",
       "      <td>295.500000</td>\n",
       "      <td>298.000000</td>\n",
       "      <td>282.399994</td>\n",
       "      <td>283.700012</td>\n",
       "      <td>281.104706</td>\n",
       "      <td>44440810</td>\n",
       "    </tr>\n",
       "    <tr>\n",
       "      <td>10</td>\n",
       "      <td>2021-01-25</td>\n",
       "      <td>284.500000</td>\n",
       "      <td>288.000000</td>\n",
       "      <td>277.049988</td>\n",
       "      <td>280.950012</td>\n",
       "      <td>278.379852</td>\n",
       "      <td>34034630</td>\n",
       "    </tr>\n",
       "    <tr>\n",
       "      <td>11</td>\n",
       "      <td>2021-01-27</td>\n",
       "      <td>280.200012</td>\n",
       "      <td>284.850006</td>\n",
       "      <td>272.700012</td>\n",
       "      <td>275.649994</td>\n",
       "      <td>273.128326</td>\n",
       "      <td>39211107</td>\n",
       "    </tr>\n",
       "    <tr>\n",
       "      <td>12</td>\n",
       "      <td>2021-01-28</td>\n",
       "      <td>271.899994</td>\n",
       "      <td>283.350006</td>\n",
       "      <td>269.500000</td>\n",
       "      <td>282.350006</td>\n",
       "      <td>279.767059</td>\n",
       "      <td>48717297</td>\n",
       "    </tr>\n",
       "    <tr>\n",
       "      <td>13</td>\n",
       "      <td>2021-01-29</td>\n",
       "      <td>285.600006</td>\n",
       "      <td>290.649994</td>\n",
       "      <td>279.100006</td>\n",
       "      <td>282.100006</td>\n",
       "      <td>279.519348</td>\n",
       "      <td>42300984</td>\n",
       "    </tr>\n",
       "    <tr>\n",
       "      <td>14</td>\n",
       "      <td>2021-02-01</td>\n",
       "      <td>285.100006</td>\n",
       "      <td>313.899994</td>\n",
       "      <td>282.750000</td>\n",
       "      <td>310.700012</td>\n",
       "      <td>307.857697</td>\n",
       "      <td>103414068</td>\n",
       "    </tr>\n",
       "  </tbody>\n",
       "</table>\n",
       "</div>"
      ],
      "text/plain": [
       "          Date        Open        High         Low       Close   Adj Close  \\\n",
       "0   2021-01-11  288.000000  288.200012  279.600006  282.500000  279.915680   \n",
       "1   2021-01-12  280.000000  293.850006  277.899994  292.500000  289.824188   \n",
       "2   2021-01-13  296.000000  308.000000  294.500000  306.799988  303.993378   \n",
       "3   2021-01-14  306.700012  309.250000  303.799988  307.250000  304.439270   \n",
       "4   2021-01-15  306.799988  310.899994  301.299988  303.850006  301.070374   \n",
       "5   2021-01-18  303.500000  308.649994  292.200012  294.450012  291.756378   \n",
       "6   2021-01-19  297.649994  302.500000  296.399994  298.600006  295.868408   \n",
       "7   2021-01-20  298.799988  304.700012  296.850006  302.549988  299.782257   \n",
       "8   2021-01-21  304.000000  305.149994  291.500000  294.850006  292.152710   \n",
       "9   2021-01-22  295.500000  298.000000  282.399994  283.700012  281.104706   \n",
       "10  2021-01-25  284.500000  288.000000  277.049988  280.950012  278.379852   \n",
       "11  2021-01-27  280.200012  284.850006  272.700012  275.649994  273.128326   \n",
       "12  2021-01-28  271.899994  283.350006  269.500000  282.350006  279.767059   \n",
       "13  2021-01-29  285.600006  290.649994  279.100006  282.100006  279.519348   \n",
       "14  2021-02-01  285.100006  313.899994  282.750000  310.700012  307.857697   \n",
       "\n",
       "       Volume  \n",
       "0    29703173  \n",
       "1    44307145  \n",
       "2    78042133  \n",
       "3    40123498  \n",
       "4    35307601  \n",
       "5    54969750  \n",
       "6    35803901  \n",
       "7    33759304  \n",
       "8    29995203  \n",
       "9    44440810  \n",
       "10   34034630  \n",
       "11   39211107  \n",
       "12   48717297  \n",
       "13   42300984  \n",
       "14  103414068  "
      ]
     },
     "execution_count": 3,
     "metadata": {},
     "output_type": "execute_result"
    }
   ],
   "source": [
    "data = df.head(15)\n",
    "data"
   ]
  },
  {
   "cell_type": "code",
   "execution_count": 4,
   "metadata": {},
   "outputs": [
    {
     "name": "stdout",
     "output_type": "stream",
     "text": [
      "<class 'pandas.core.frame.DataFrame'>\n",
      "RangeIndex: 122 entries, 0 to 121\n",
      "Data columns (total 7 columns):\n",
      "Date         122 non-null object\n",
      "Open         122 non-null float64\n",
      "High         122 non-null float64\n",
      "Low          122 non-null float64\n",
      "Close        122 non-null float64\n",
      "Adj Close    122 non-null float64\n",
      "Volume       122 non-null int64\n",
      "dtypes: float64(5), int64(1), object(1)\n",
      "memory usage: 6.8+ KB\n"
     ]
    }
   ],
   "source": [
    "df.info()"
   ]
  },
  {
   "cell_type": "code",
   "execution_count": 5,
   "metadata": {},
   "outputs": [
    {
     "data": {
      "text/plain": [
       "Date         2021-01-112021-01-122021-01-132021-01-142021-0...\n",
       "Open                                                   45952.5\n",
       "High                                                   46674.1\n",
       "Low                                                    45209.1\n",
       "Close                                                    45946\n",
       "Adj Close                                              45626.9\n",
       "Volume                                              5952296485\n",
       "dtype: object"
      ]
     },
     "execution_count": 5,
     "metadata": {},
     "output_type": "execute_result"
    }
   ],
   "source": [
    "df.sum()"
   ]
  },
  {
   "cell_type": "code",
   "execution_count": 6,
   "metadata": {},
   "outputs": [
    {
     "data": {
      "image/png": "[encoded data removed]",
      "text/plain": [
       "<Figure size 432x288 with 1 Axes>"
      ]
     },
     "metadata": {
      "needs_background": "light"
     },
     "output_type": "display_data"
    }
   ],
   "source": [
    "sns.lineplot(x=\"Open\", y = \"Low\", data= data)\n",
    "plt.show()"
   ]
  },
  {
   "cell_type": "code",
   "execution_count": 7,
   "metadata": {},
   "outputs": [
    {
     "data": {
      "image/png": "[encoded data removed]",
      "text/plain": [
       "<Figure size 432x288 with 1 Axes>"
      ]
     },
     "metadata": {
      "needs_background": "light"
     },
     "output_type": "display_data"
    }
   ],
   "source": [
    "sns.barplot(x=\"Close\", y = \"High\", data= data)\n",
    "plt.show()"
   ]
  },
  {
   "cell_type": "code",
   "execution_count": 8,
   "metadata": {},
   "outputs": [
    {
     "data": {
      "text/plain": [
       "<matplotlib.axes._subplots.AxesSubplot at 0x1da0ab01b48>"
      ]
     },
     "execution_count": 8,
     "metadata": {},
     "output_type": "execute_result"
    },
    {
     "data": {
      "image/png": "[encoded data removed]",
      "text/plain": [
       "<Figure size 432x288 with 1 Axes>"
      ]
     },
     "metadata": {
      "needs_background": "light"
     },
     "output_type": "display_data"
    }
   ],
   "source": [
    "sns.boxplot(x=\"Open\", y=\"Volume\", data=data)"
   ]
  },
  {
   "cell_type": "code",
   "execution_count": 9,
   "metadata": {},
   "outputs": [
    {
     "data": {
      "text/html": [
       "<div>\n",
       "<style scoped>\n",
       "    .dataframe tbody tr th:only-of-type {\n",
       "        vertical-align: middle;\n",
       "    }\n",
       "\n",
       "    .dataframe tbody tr th {\n",
       "        vertical-align: top;\n",
       "    }\n",
       "\n",
       "    .dataframe thead th {\n",
       "        text-align: right;\n",
       "    }\n",
       "</style>\n",
       "<table border=\"1\" class=\"dataframe\">\n",
       "  <thead>\n",
       "    <tr style=\"text-align: right;\">\n",
       "      <th></th>\n",
       "      <th>Open</th>\n",
       "      <th>High</th>\n",
       "      <th>Low</th>\n",
       "      <th>Close</th>\n",
       "      <th>Adj Close</th>\n",
       "      <th>Volume</th>\n",
       "    </tr>\n",
       "  </thead>\n",
       "  <tbody>\n",
       "    <tr>\n",
       "      <td>0</td>\n",
       "      <td>288.000000</td>\n",
       "      <td>288.200012</td>\n",
       "      <td>279.600006</td>\n",
       "      <td>282.500000</td>\n",
       "      <td>279.915680</td>\n",
       "      <td>29703173</td>\n",
       "    </tr>\n",
       "    <tr>\n",
       "      <td>1</td>\n",
       "      <td>280.000000</td>\n",
       "      <td>293.850006</td>\n",
       "      <td>277.899994</td>\n",
       "      <td>292.500000</td>\n",
       "      <td>289.824188</td>\n",
       "      <td>44307145</td>\n",
       "    </tr>\n",
       "    <tr>\n",
       "      <td>2</td>\n",
       "      <td>296.000000</td>\n",
       "      <td>308.000000</td>\n",
       "      <td>294.500000</td>\n",
       "      <td>306.799988</td>\n",
       "      <td>303.993378</td>\n",
       "      <td>78042133</td>\n",
       "    </tr>\n",
       "    <tr>\n",
       "      <td>3</td>\n",
       "      <td>306.700012</td>\n",
       "      <td>309.250000</td>\n",
       "      <td>303.799988</td>\n",
       "      <td>307.250000</td>\n",
       "      <td>304.439270</td>\n",
       "      <td>40123498</td>\n",
       "    </tr>\n",
       "    <tr>\n",
       "      <td>4</td>\n",
       "      <td>306.799988</td>\n",
       "      <td>310.899994</td>\n",
       "      <td>301.299988</td>\n",
       "      <td>303.850006</td>\n",
       "      <td>301.070374</td>\n",
       "      <td>35307601</td>\n",
       "    </tr>\n",
       "    <tr>\n",
       "      <td>5</td>\n",
       "      <td>303.500000</td>\n",
       "      <td>308.649994</td>\n",
       "      <td>292.200012</td>\n",
       "      <td>294.450012</td>\n",
       "      <td>291.756378</td>\n",
       "      <td>54969750</td>\n",
       "    </tr>\n",
       "    <tr>\n",
       "      <td>6</td>\n",
       "      <td>297.649994</td>\n",
       "      <td>302.500000</td>\n",
       "      <td>296.399994</td>\n",
       "      <td>298.600006</td>\n",
       "      <td>295.868408</td>\n",
       "      <td>35803901</td>\n",
       "    </tr>\n",
       "    <tr>\n",
       "      <td>7</td>\n",
       "      <td>298.799988</td>\n",
       "      <td>304.700012</td>\n",
       "      <td>296.850006</td>\n",
       "      <td>302.549988</td>\n",
       "      <td>299.782257</td>\n",
       "      <td>33759304</td>\n",
       "    </tr>\n",
       "    <tr>\n",
       "      <td>8</td>\n",
       "      <td>304.000000</td>\n",
       "      <td>305.149994</td>\n",
       "      <td>291.500000</td>\n",
       "      <td>294.850006</td>\n",
       "      <td>292.152710</td>\n",
       "      <td>29995203</td>\n",
       "    </tr>\n",
       "    <tr>\n",
       "      <td>9</td>\n",
       "      <td>295.500000</td>\n",
       "      <td>298.000000</td>\n",
       "      <td>282.399994</td>\n",
       "      <td>283.700012</td>\n",
       "      <td>281.104706</td>\n",
       "      <td>44440810</td>\n",
       "    </tr>\n",
       "  </tbody>\n",
       "</table>\n",
       "</div>"
      ],
      "text/plain": [
       "         Open        High         Low       Close   Adj Close    Volume\n",
       "0  288.000000  288.200012  279.600006  282.500000  279.915680  29703173\n",
       "1  280.000000  293.850006  277.899994  292.500000  289.824188  44307145\n",
       "2  296.000000  308.000000  294.500000  306.799988  303.993378  78042133\n",
       "3  306.700012  309.250000  303.799988  307.250000  304.439270  40123498\n",
       "4  306.799988  310.899994  301.299988  303.850006  301.070374  35307601\n",
       "5  303.500000  308.649994  292.200012  294.450012  291.756378  54969750\n",
       "6  297.649994  302.500000  296.399994  298.600006  295.868408  35803901\n",
       "7  298.799988  304.700012  296.850006  302.549988  299.782257  33759304\n",
       "8  304.000000  305.149994  291.500000  294.850006  292.152710  29995203\n",
       "9  295.500000  298.000000  282.399994  283.700012  281.104706  44440810"
      ]
     },
     "execution_count": 9,
     "metadata": {},
     "output_type": "execute_result"
    }
   ],
   "source": [
    "x = df.drop(columns = [\"Date\"],axis=1).head(10)\n",
    "x"
   ]
  },
  {
   "cell_type": "code",
   "execution_count": 10,
   "metadata": {},
   "outputs": [
    {
     "data": {
      "text/plain": [
       "<matplotlib.axes._subplots.AxesSubplot at 0x1da0abd3d88>"
      ]
     },
     "execution_count": 10,
     "metadata": {},
     "output_type": "execute_result"
    },
    {
     "data": {
      "image/png": "[encoded data removed]",
      "text/plain": [
       "<Figure size 432x288 with 2 Axes>"
      ]
     },
     "metadata": {
      "needs_background": "light"
     },
     "output_type": "display_data"
    }
   ],
   "source": [
    "sns.heatmap(x,cmap='PuOr',annot=True)"
   ]
  },
  {
   "cell_type": "code",
   "execution_count": 11,
   "metadata": {},
   "outputs": [],
   "source": [
    "closed_prices = df[\"Close\"]\n",
    "seq_len = 15\n",
    "\n",
    "mm = MinMaxScaler()\n",
    "scaled_price = mm.fit_transform(np.array(closed_prices)[... , None]).squeeze()"
   ]
  },
  {
   "cell_type": "code",
   "execution_count": 12,
   "metadata": {},
   "outputs": [],
   "source": [
    "X = []\n",
    "y = []"
   ]
  },
  {
   "cell_type": "code",
   "execution_count": 13,
   "metadata": {},
   "outputs": [],
   "source": [
    "for i in range(len(scaled_price) - seq_len):\n",
    "    X.append(scaled_price[i : i + seq_len])\n",
    "    y.append(scaled_price[i + seq_len])\n"
   ]
  },
  {
   "cell_type": "code",
   "execution_count": 14,
   "metadata": {},
   "outputs": [],
   "source": [
    "X = np.array(X)[... , None]\n",
    "y = np.array(y)[... , None]"
   ]
  },
  {
   "cell_type": "code",
   "execution_count": 15,
   "metadata": {},
   "outputs": [],
   "source": [
    "train_x = torch.from_numpy(X[:int(0.8 * X.shape[0])]).float()\n",
    "train_y = torch.from_numpy(y[:int(0.8 * X.shape[0])]).float()\n",
    "test_x = torch.from_numpy(X[int(0.8 * X.shape[0]):]).float()\n",
    "test_y = torch.from_numpy(y[int(0.8 * X.shape[0]):]).float()\n",
    "\n"
   ]
  },
  {
   "cell_type": "code",
   "execution_count": 16,
   "metadata": {},
   "outputs": [],
   "source": [
    "class Model(nn.Module):\n",
    "    def __init__(self , input_size , hidden_size):\n",
    "        super().__init__()\n",
    "        self.lstm = nn.LSTM(input_size , hidden_size , batch_first = True)\n",
    "        self.fc = nn.Linear(hidden_size , 1)\n",
    "    def forward(self , x):\n",
    "        output , (hidden , cell) = self.lstm(x)\n",
    "        return self.fc(hidden[-1 , :])"
   ]
  },
  {
   "cell_type": "code",
   "execution_count": 17,
   "metadata": {},
   "outputs": [],
   "source": [
    "model = Model(1 , 64)"
   ]
  },
  {
   "cell_type": "code",
   "execution_count": 18,
   "metadata": {},
   "outputs": [],
   "source": [
    "optimizer = torch.optim.Adam(model.parameters() , lr = 0.001)"
   ]
  },
  {
   "cell_type": "code",
   "execution_count": 19,
   "metadata": {},
   "outputs": [],
   "source": [
    "loss_fn = nn.MSELoss()"
   ]
  },
  {
   "cell_type": "code",
   "execution_count": 20,
   "metadata": {},
   "outputs": [],
   "source": [
    "num_epochs = 100"
   ]
  },
  {
   "cell_type": "code",
   "execution_count": 21,
   "metadata": {},
   "outputs": [],
   "source": [
    "for epoch in range(num_epochs):\n",
    "    output = model(train_x)\n",
    "    loss = loss_fn(output , train_y)\n",
    "    \n",
    "    optimizer.zero_grad()\n",
    "    loss.backward()\n",
    "    optimizer.step()"
   ]
  },
  {
   "cell_type": "code",
   "execution_count": 22,
   "metadata": {},
   "outputs": [
    {
     "name": "stdout",
     "output_type": "stream",
     "text": [
      "10 epoch loss 0.010701082\n",
      "20 epoch loss 0.008907034\n",
      "30 epoch loss 0.006587283\n",
      "40 epoch loss 0.0058460333\n",
      "50 epoch loss 0.005416618\n",
      "60 epoch loss 0.0052398047\n",
      "70 epoch loss 0.0050177504\n",
      "80 epoch loss 0.0048564854\n",
      "90 epoch loss 0.0047080196\n"
     ]
    }
   ],
   "source": [
    "for epoch in range(num_epochs):\n",
    "    output = model(train_x)\n",
    "    loss = loss_fn(output , train_y)\n",
    "\n",
    "    optimizer.zero_grad()\n",
    "    loss.backward()\n",
    "    optimizer.step()\n",
    "\n",
    "    if epoch % 10 == 0 and epoch != 0:\n",
    "        print(epoch , \"epoch loss\" , loss.detach().numpy())"
   ]
  },
  {
   "cell_type": "code",
   "execution_count": 23,
   "metadata": {},
   "outputs": [],
   "source": [
    "model.eval()\n",
    "with torch.no_grad():\n",
    "    output = model(test_x)"
   ]
  },
  {
   "cell_type": "code",
   "execution_count": 24,
   "metadata": {},
   "outputs": [],
   "source": [
    "pred = mm.inverse_transform(output.numpy())\n",
    "real = mm.inverse_transform(test_y.numpy())\n"
   ]
  },
  {
   "cell_type": "code",
   "execution_count": 25,
   "metadata": {},
   "outputs": [
    {
     "data": {
      "image/png": "[encoded data removed]",
      "text/plain": [
       "<Figure size 432x288 with 1 Axes>"
      ]
     },
     "metadata": {
      "needs_background": "light"
     },
     "output_type": "display_data"
    }
   ],
   "source": [
    "plt.plot(pred.squeeze() , color = \"red\" , label = \"predicted\")\n",
    "plt.plot(real.squeeze() , color = \"green\" , label = \"real\")\n",
    "plt.show()\n"
   ]
  },
  {
   "cell_type": "code",
   "execution_count": null,
   "metadata": {},
   "outputs": [],
   "source": []
  }
 ],
 "metadata": {
  "kernelspec": {
   "display_name": "Python 3",
   "language": "python",
   "name": "python3"
  },
  "language_info": {
   "codemirror_mode": {
    "name": "ipython",
    "version": 3
   },
   "file_extension": ".py",
   "mimetype": "text/x-python",
   "name": "python",
   "nbconvert_exporter": "python",
   "pygments_lexer": "ipython3",
   "version": "3.7.4"
  }
 },
 "nbformat": 4,
 "nbformat_minor": 2
}
